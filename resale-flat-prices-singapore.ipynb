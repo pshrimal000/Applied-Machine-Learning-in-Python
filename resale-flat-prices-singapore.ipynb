{
 "cells": [
  {
   "cell_type": "markdown",
   "id": "a0e59fe9",
   "metadata": {
    "_cell_guid": "b1076dfc-b9ad-4769-8c92-a6c4dae69d19",
    "_uuid": "8f2839f25d086af736a60e9eeb907d3b93b6e0e5",
    "papermill": {
     "duration": 0.007156,
     "end_time": "2021-09-20T19:33:36.732527",
     "exception": false,
     "start_time": "2021-09-20T19:33:36.725371",
     "status": "completed"
    },
    "tags": []
   },
   "source": [
    "# Resale Flat Prices Singapore from 1990 - 1999"
   ]
  },
  {
   "cell_type": "markdown",
   "id": "b19a6f77",
   "metadata": {
    "papermill": {
     "duration": 0.005814,
     "end_time": "2021-09-20T19:33:36.745449",
     "exception": false,
     "start_time": "2021-09-20T19:33:36.739635",
     "status": "completed"
    },
    "tags": []
   },
   "source": [
    "#### Loading and Displaying data"
   ]
  },
  {
   "cell_type": "code",
   "execution_count": 1,
   "id": "e53bfeab",
   "metadata": {
    "execution": {
     "iopub.execute_input": "2021-09-20T19:33:36.772311Z",
     "iopub.status.busy": "2021-09-20T19:33:36.768391Z",
     "iopub.status.idle": "2021-09-20T19:33:36.777811Z",
     "shell.execute_reply": "2021-09-20T19:33:36.776960Z",
     "shell.execute_reply.started": "2021-09-20T19:24:59.481667Z"
    },
    "papermill": {
     "duration": 0.026101,
     "end_time": "2021-09-20T19:33:36.777998",
     "exception": false,
     "start_time": "2021-09-20T19:33:36.751897",
     "status": "completed"
    },
    "tags": []
   },
   "outputs": [],
   "source": [
    "import pandas as pd"
   ]
  },
  {
   "cell_type": "code",
   "execution_count": 2,
   "id": "20936504",
   "metadata": {
    "execution": {
     "iopub.execute_input": "2021-09-20T19:33:36.796904Z",
     "iopub.status.busy": "2021-09-20T19:33:36.796241Z",
     "iopub.status.idle": "2021-09-20T19:33:37.507093Z",
     "shell.execute_reply": "2021-09-20T19:33:37.507623Z",
     "shell.execute_reply.started": "2021-09-20T19:25:51.764471Z"
    },
    "papermill": {
     "duration": 0.722638,
     "end_time": "2021-09-20T19:33:37.507802",
     "exception": false,
     "start_time": "2021-09-20T19:33:36.785164",
     "status": "completed"
    },
    "tags": []
   },
   "outputs": [
    {
     "data": {
      "text/html": [
       "<div>\n",
       "<style scoped>\n",
       "    .dataframe tbody tr th:only-of-type {\n",
       "        vertical-align: middle;\n",
       "    }\n",
       "\n",
       "    .dataframe tbody tr th {\n",
       "        vertical-align: top;\n",
       "    }\n",
       "\n",
       "    .dataframe thead th {\n",
       "        text-align: right;\n",
       "    }\n",
       "</style>\n",
       "<table border=\"1\" class=\"dataframe\">\n",
       "  <thead>\n",
       "    <tr style=\"text-align: right;\">\n",
       "      <th></th>\n",
       "      <th>month</th>\n",
       "      <th>town</th>\n",
       "      <th>flat_type</th>\n",
       "      <th>block</th>\n",
       "      <th>street_name</th>\n",
       "      <th>storey_range</th>\n",
       "      <th>floor_area_sqm</th>\n",
       "      <th>flat_model</th>\n",
       "      <th>lease_commence_date</th>\n",
       "      <th>resale_price</th>\n",
       "    </tr>\n",
       "  </thead>\n",
       "  <tbody>\n",
       "    <tr>\n",
       "      <th>0</th>\n",
       "      <td>1990-01</td>\n",
       "      <td>ANG MO KIO</td>\n",
       "      <td>1 ROOM</td>\n",
       "      <td>309</td>\n",
       "      <td>ANG MO KIO AVE 1</td>\n",
       "      <td>10 TO 12</td>\n",
       "      <td>31.0</td>\n",
       "      <td>IMPROVED</td>\n",
       "      <td>1977</td>\n",
       "      <td>9000</td>\n",
       "    </tr>\n",
       "    <tr>\n",
       "      <th>1</th>\n",
       "      <td>1990-01</td>\n",
       "      <td>ANG MO KIO</td>\n",
       "      <td>1 ROOM</td>\n",
       "      <td>309</td>\n",
       "      <td>ANG MO KIO AVE 1</td>\n",
       "      <td>04 TO 06</td>\n",
       "      <td>31.0</td>\n",
       "      <td>IMPROVED</td>\n",
       "      <td>1977</td>\n",
       "      <td>6000</td>\n",
       "    </tr>\n",
       "    <tr>\n",
       "      <th>2</th>\n",
       "      <td>1990-01</td>\n",
       "      <td>ANG MO KIO</td>\n",
       "      <td>1 ROOM</td>\n",
       "      <td>309</td>\n",
       "      <td>ANG MO KIO AVE 1</td>\n",
       "      <td>10 TO 12</td>\n",
       "      <td>31.0</td>\n",
       "      <td>IMPROVED</td>\n",
       "      <td>1977</td>\n",
       "      <td>8000</td>\n",
       "    </tr>\n",
       "    <tr>\n",
       "      <th>3</th>\n",
       "      <td>1990-01</td>\n",
       "      <td>ANG MO KIO</td>\n",
       "      <td>1 ROOM</td>\n",
       "      <td>309</td>\n",
       "      <td>ANG MO KIO AVE 1</td>\n",
       "      <td>07 TO 09</td>\n",
       "      <td>31.0</td>\n",
       "      <td>IMPROVED</td>\n",
       "      <td>1977</td>\n",
       "      <td>6000</td>\n",
       "    </tr>\n",
       "    <tr>\n",
       "      <th>4</th>\n",
       "      <td>1990-01</td>\n",
       "      <td>ANG MO KIO</td>\n",
       "      <td>3 ROOM</td>\n",
       "      <td>216</td>\n",
       "      <td>ANG MO KIO AVE 1</td>\n",
       "      <td>04 TO 06</td>\n",
       "      <td>73.0</td>\n",
       "      <td>NEW GENERATION</td>\n",
       "      <td>1976</td>\n",
       "      <td>47200</td>\n",
       "    </tr>\n",
       "  </tbody>\n",
       "</table>\n",
       "</div>"
      ],
      "text/plain": [
       "     month        town flat_type block       street_name storey_range  \\\n",
       "0  1990-01  ANG MO KIO    1 ROOM   309  ANG MO KIO AVE 1     10 TO 12   \n",
       "1  1990-01  ANG MO KIO    1 ROOM   309  ANG MO KIO AVE 1     04 TO 06   \n",
       "2  1990-01  ANG MO KIO    1 ROOM   309  ANG MO KIO AVE 1     10 TO 12   \n",
       "3  1990-01  ANG MO KIO    1 ROOM   309  ANG MO KIO AVE 1     07 TO 09   \n",
       "4  1990-01  ANG MO KIO    3 ROOM   216  ANG MO KIO AVE 1     04 TO 06   \n",
       "\n",
       "   floor_area_sqm      flat_model  lease_commence_date  resale_price  \n",
       "0            31.0        IMPROVED                 1977          9000  \n",
       "1            31.0        IMPROVED                 1977          6000  \n",
       "2            31.0        IMPROVED                 1977          8000  \n",
       "3            31.0        IMPROVED                 1977          6000  \n",
       "4            73.0  NEW GENERATION                 1976         47200  "
      ]
     },
     "execution_count": 2,
     "metadata": {},
     "output_type": "execute_result"
    }
   ],
   "source": [
    "df = pd.read_csv(\"../input/resale-flat-prices-in-singapore/flat-prices.csv\", sep = r',', skipinitialspace = True, encoding = 'unicode_escape')\n",
    "\n",
    "df.head()"
   ]
  },
  {
   "cell_type": "markdown",
   "id": "b8766092",
   "metadata": {
    "papermill": {
     "duration": 0.006705,
     "end_time": "2021-09-20T19:33:37.521682",
     "exception": false,
     "start_time": "2021-09-20T19:33:37.514977",
     "status": "completed"
    },
    "tags": []
   },
   "source": [
    "#### Visualizing data"
   ]
  },
  {
   "cell_type": "code",
   "execution_count": 3,
   "id": "8b60f42d",
   "metadata": {
    "execution": {
     "iopub.execute_input": "2021-09-20T19:33:37.542255Z",
     "iopub.status.busy": "2021-09-20T19:33:37.541444Z",
     "iopub.status.idle": "2021-09-20T19:33:37.544683Z",
     "shell.execute_reply": "2021-09-20T19:33:37.544122Z",
     "shell.execute_reply.started": "2021-09-20T19:26:43.717296Z"
    },
    "papermill": {
     "duration": 0.01637,
     "end_time": "2021-09-20T19:33:37.544837",
     "exception": false,
     "start_time": "2021-09-20T19:33:37.528467",
     "status": "completed"
    },
    "tags": []
   },
   "outputs": [],
   "source": [
    "%matplotlib inline\n",
    "import matplotlib.pyplot as plt"
   ]
  },
  {
   "cell_type": "code",
   "execution_count": 4,
   "id": "23ce5115",
   "metadata": {
    "execution": {
     "iopub.execute_input": "2021-09-20T19:33:37.582521Z",
     "iopub.status.busy": "2021-09-20T19:33:37.581816Z",
     "iopub.status.idle": "2021-09-20T19:33:38.335977Z",
     "shell.execute_reply": "2021-09-20T19:33:38.334959Z",
     "shell.execute_reply.started": "2021-09-20T19:33:09.106008Z"
    },
    "papermill": {
     "duration": 0.784195,
     "end_time": "2021-09-20T19:33:38.336158",
     "exception": false,
     "start_time": "2021-09-20T19:33:37.551963",
     "status": "completed"
    },
    "tags": []
   },
   "outputs": [
    {
     "data": {
      "image/png": "[encoded data removed]",
      "text/plain": [
       "<Figure size 864x720 with 1 Axes>"
      ]
     },
     "metadata": {
      "needs_background": "light"
     },
     "output_type": "display_data"
    }
   ],
   "source": [
    "plt.figure(figsize = (12, 10))\n",
    "plt.xlabel(\"Floor area in square meter\", fontsize = 20)\n",
    "plt.ylabel(\"Resale Price\", fontsize = 20)\n",
    "plt.scatter(df[\"floor_area_sqm\"], df[\"resale_price\"], color = \"blue\")\n",
    "plt.show()"
   ]
  }
 ],
 "metadata": {
  "kernelspec": {
   "display_name": "Python 3",
   "language": "python",
   "name": "python3"
  },
  "language_info": {
   "codemirror_mode": {
    "name": "ipython",
    "version": 3
   },
   "file_extension": ".py",
   "mimetype": "text/x-python",
   "name": "python",
   "nbconvert_exporter": "python",
   "pygments_lexer": "ipython3",
   "version": "3.7.10"
  },
  "papermill": {
   "default_parameters": {},
   "duration": 11.86783,
   "end_time": "2021-09-20T19:33:39.606137",
   "environment_variables": {},
   "exception": null,
   "input_path": "__notebook__.ipynb",
   "output_path": "__notebook__.ipynb",
   "parameters": {},
   "start_time": "2021-09-20T19:33:27.738307",
   "version": "2.3.3"
  }
 },
 "nbformat": 4,
 "nbformat_minor": 5
}
